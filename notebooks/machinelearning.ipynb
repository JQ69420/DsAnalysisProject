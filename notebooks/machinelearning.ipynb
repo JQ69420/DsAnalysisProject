{
 "cells": [
  {
   "cell_type": "markdown",
   "metadata": {},
   "source": [
    "# Logistic regression"
   ]
  },
  {
   "cell_type": "code",
   "execution_count": 13,
   "metadata": {},
   "outputs": [
    {
     "name": "stdout",
     "output_type": "stream",
     "text": [
      "Accuracy: 0.70\n",
      "Classification Report:\n",
      "              precision    recall  f1-score   support\n",
      "\n",
      "           0       0.69      0.69      0.69        32\n",
      "           1       0.71      0.71      0.71        35\n",
      "\n",
      "    accuracy                           0.70        67\n",
      "   macro avg       0.70      0.70      0.70        67\n",
      "weighted avg       0.70      0.70      0.70        67\n",
      "\n"
     ]
    }
   ],
   "source": [
    "import pandas as pd\n",
    "import numpy as np\n",
    "from sklearn.model_selection import train_test_split\n",
    "from sklearn.linear_model import LogisticRegression\n",
    "from sklearn.preprocessing import StandardScaler, OneHotEncoder\n",
    "from sklearn.impute import SimpleImputer\n",
    "from sklearn.compose import ColumnTransformer\n",
    "from sklearn.pipeline import Pipeline\n",
    "from sklearn.metrics import accuracy_score, classification_report\n",
    "import os\n",
    "\n",
    "# Load the data\n",
    "student_file = os.path.join(\"..\", \"data\", \"processed\", \"Merged_Final_File_Updated.xlsx\")\n",
    "df = pd.read_excel(student_file)\n",
    "\n",
    "# Map dependent variable 'dropped out' to binary\n",
    "df['dropped out'] = df['dropped out'].map({'no': 0, 'yes': 1})\n",
    "\n",
    "# Define features and target\n",
    "features = ['anl1 final grade', 'anl2 final grade', 'anl3 final grade', 'anl4 final grade', 'education_level']\n",
    "target = 'dropped out'\n",
    "\n",
    "X = df[features]\n",
    "y = df[target]\n",
    "\n",
    "# Split the data into training and test sets\n",
    "X_train, X_test, y_train, y_test = train_test_split(X, y, test_size=0.2, random_state=42)\n",
    "\n",
    "# Define preprocessing for numerical and categorical features\n",
    "numerical_features = ['anl1 final grade', 'anl2 final grade', 'anl3 final grade', 'anl4 final grade']\n",
    "categorical_features = ['education_level']\n",
    "\n",
    "numerical_transformer = Pipeline(steps=[\n",
    "    ('imputer', SimpleImputer(strategy='constant', fill_value=1)),  # Fill NA values with 1\n",
    "    ('scaler', StandardScaler())\n",
    "])\n",
    "categorical_transformer = OneHotEncoder(handle_unknown='ignore')\n",
    "\n",
    "preprocessor = ColumnTransformer(\n",
    "    transformers=[\n",
    "        ('num', numerical_transformer, numerical_features),\n",
    "        ('cat', categorical_transformer, categorical_features)\n",
    "    ]\n",
    ")\n",
    "\n",
    "# Create the pipeline\n",
    "pipeline = Pipeline(steps=[\n",
    "    ('preprocessor', preprocessor),\n",
    "    ('classifier', LogisticRegression())\n",
    "])\n",
    "\n",
    "# Train the model\n",
    "pipeline.fit(X_train, y_train)\n",
    "\n",
    "# Predict on the test set\n",
    "y_pred = pipeline.predict(X_test)\n",
    "\n",
    "# Evaluate the model\n",
    "accuracy = accuracy_score(y_test, y_pred)\n",
    "print(f\"Accuracy: {accuracy:.2f}\")\n",
    "print(\"Classification Report:\")\n",
    "print(classification_report(y_test, y_pred))\n"
   ]
  },
  {
   "cell_type": "code",
   "execution_count": 16,
   "metadata": {},
   "outputs": [
    {
     "name": "stdout",
     "output_type": "stream",
     "text": [
      "Accuracy: 0.72\n",
      "Classification Report:\n",
      "              precision    recall  f1-score   support\n",
      "\n",
      "           0       0.71      0.69      0.70        32\n",
      "           1       0.72      0.74      0.73        35\n",
      "\n",
      "    accuracy                           0.72        67\n",
      "   macro avg       0.72      0.72      0.72        67\n",
      "weighted avg       0.72      0.72      0.72        67\n",
      "\n"
     ]
    }
   ],
   "source": [
    "import pandas as pd\n",
    "import numpy as np\n",
    "from sklearn.model_selection import train_test_split\n",
    "from sklearn.linear_model import LogisticRegression\n",
    "from sklearn.preprocessing import StandardScaler\n",
    "from sklearn.impute import SimpleImputer\n",
    "from sklearn.compose import ColumnTransformer\n",
    "from sklearn.pipeline import Pipeline\n",
    "from sklearn.metrics import accuracy_score, classification_report\n",
    "import os\n",
    "\n",
    "# Load the data\n",
    "student_file = os.path.join(\"..\", \"data\", \"processed\", \"Merged_Final_File_Updated.xlsx\")\n",
    "df = pd.read_excel(student_file)\n",
    "\n",
    "# Map dependent variable 'dropped out' to binary\n",
    "df['dropped out'] = df['dropped out'].map({'no': 0, 'yes': 1})\n",
    "\n",
    "# Define features and target\n",
    "features = ['anl1 final grade', 'anl2 final grade', 'anl3 final grade', 'anl4 final grade']\n",
    "target = 'dropped out'\n",
    "\n",
    "X = df[features]\n",
    "y = df[target]\n",
    "\n",
    "# Split the data into training and test sets\n",
    "X_train, X_test, y_train, y_test = train_test_split(X, y, test_size=0.2, random_state=42)\n",
    "\n",
    "# Define preprocessing for numerical features (no categorical features anymore)\n",
    "numerical_transformer = Pipeline(steps=[\n",
    "    ('imputer', SimpleImputer(strategy='constant', fill_value=1)),  # Fill NA values with 1\n",
    "    ('scaler', StandardScaler())\n",
    "])\n",
    "\n",
    "preprocessor = ColumnTransformer(\n",
    "    transformers=[('num', numerical_transformer, features)]\n",
    ")\n",
    "\n",
    "# Create the pipeline\n",
    "pipeline = Pipeline(steps=[\n",
    "    ('preprocessor', preprocessor),\n",
    "    ('classifier', LogisticRegression())\n",
    "])\n",
    "\n",
    "# Train the model\n",
    "pipeline.fit(X_train, y_train)\n",
    "\n",
    "# Predict on the test set\n",
    "y_pred = pipeline.predict(X_test)\n",
    "\n",
    "# Evaluate the model\n",
    "accuracy = accuracy_score(y_test, y_pred)\n",
    "print(f\"Accuracy: {accuracy:.2f}\")\n",
    "print(\"Classification Report:\")\n",
    "print(classification_report(y_test, y_pred))\n"
   ]
  },
  {
   "cell_type": "code",
   "execution_count": null,
   "metadata": {},
   "outputs": [],
   "source": []
  },
  {
   "cell_type": "code",
   "execution_count": 4,
   "metadata": {},
   "outputs": [
    {
     "name": "stdout",
     "output_type": "stream",
     "text": [
      "Files merged successfully and 'school_level' column removed! Merged file saved to: ..\\data\\processed\\Merged_Final_File.xlsx\n"
     ]
    }
   ],
   "source": [
    "import os\n",
    "import pandas as pd\n",
    "\n",
    "# File paths\n",
    "master_file = os.path.join(\"..\", \"data\", \"processed\", \"Merged_Student_Data_Schoollevel_final.xlsx\")\n",
    "vooropleiding_file = os.path.join(\"..\", \"data\", \"processed\", \"cleaned_students_vooropleiding.xlsx\")\n",
    "\n",
    "# Load the data\n",
    "df_master = pd.read_excel(master_file)\n",
    "df_vooropleiding = pd.read_excel(vooropleiding_file)\n",
    "\n",
    "# Merge the files on 'ID'\n",
    "df_merged = pd.merge(\n",
    "    df_master,\n",
    "    df_vooropleiding[['id', 'education_level']],  # Only take 'ID' and 'education_level' columns\n",
    "    on='id',\n",
    "    how='left'  # Use 'left' join to keep all rows from the master file\n",
    ")\n",
    "\n",
    "# Remove the 'school_level' column\n",
    "if 'school level' in df_merged.columns:\n",
    "    df_merged = df_merged.drop(columns=['school level'])\n",
    "\n",
    "# Save the updated file (optional)\n",
    "output_file = os.path.join(\"..\", \"data\", \"processed\", \"Merged_Final_File.xlsx\")\n",
    "df_merged.to_excel(output_file, index=False)\n",
    "\n",
    "print(\"Files merged successfully and 'school_level' column removed! Merged file saved to:\", output_file)\n"
   ]
  },
  {
   "cell_type": "code",
   "execution_count": 5,
   "metadata": {},
   "outputs": [
    {
     "name": "stdout",
     "output_type": "stream",
     "text": [
      "Merged file saved to: ..\\data\\processed\\Merged_Final_File_Updated.xlsx\n"
     ]
    }
   ],
   "source": [
    "import os\n",
    "import pandas as pd\n",
    "\n",
    "# File paths\n",
    "master_file = os.path.join(\"..\", \"data\", \"processed\", \"Merged_Final_File.xlsx\")\n",
    "grades_file = os.path.join(\"..\", \"data\", \"processed\", \"Grades_Fill1.xlsx\")\n",
    "\n",
    "# Load the files\n",
    "master_df = pd.read_excel(master_file)\n",
    "grades_df = pd.read_excel(grades_file)\n",
    "\n",
    "# Select only the necessary columns from grades_file\n",
    "grades_columns = ['id', 'ANL1 Final Grade', 'ANL2 Final Grade', 'ANL4 Final Grade']\n",
    "grades_df = grades_df[grades_columns]\n",
    "\n",
    "# Merge the files based on 'id'\n",
    "merged_df = pd.merge(master_df, grades_df, how='left', left_on='id', right_on='id')\n",
    "\n",
    "# Save the updated master file\n",
    "output_file = os.path.join(\"..\", \"data\", \"processed\", \"Merged_Final_File_Updated.xlsx\")\n",
    "merged_df.to_excel(output_file, index=False)\n",
    "\n",
    "print(f\"Merged file saved to: {output_file}\")\n"
   ]
  }
 ],
 "metadata": {
  "kernelspec": {
   "display_name": "Python 3",
   "language": "python",
   "name": "python3"
  },
  "language_info": {
   "codemirror_mode": {
    "name": "ipython",
    "version": 3
   },
   "file_extension": ".py",
   "mimetype": "text/x-python",
   "name": "python",
   "nbconvert_exporter": "python",
   "pygments_lexer": "ipython3",
   "version": "3.9.7"
  }
 },
 "nbformat": 4,
 "nbformat_minor": 2
}
