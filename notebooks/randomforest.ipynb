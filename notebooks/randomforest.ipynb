{
 "cells": [
  {
   "cell_type": "markdown",
   "metadata": {},
   "source": [
    "# Random forest MLA"
   ]
  },
  {
   "cell_type": "code",
   "execution_count": 2,
   "metadata": {},
   "outputs": [
    {
     "name": "stdout",
     "output_type": "stream",
     "text": [
      "Cross-Validation Accuracy Scores: [0.65671642 0.68656716 0.68656716 0.66666667 0.74242424]\n",
      "Mean Accuracy: 0.69\n",
      "Standard Deviation: 0.03\n",
      "\n",
      "Final Test Set Accuracy: 0.66\n",
      "\n",
      "Classification Report:\n",
      "              precision    recall  f1-score   support\n",
      "\n",
      "           0       0.74      0.56      0.63        36\n",
      "           1       0.60      0.77      0.68        31\n",
      "\n",
      "    accuracy                           0.66        67\n",
      "   macro avg       0.67      0.66      0.66        67\n",
      "weighted avg       0.68      0.66      0.65        67\n",
      "\n",
      "\n",
      "Confusion Matrix:\n",
      "[[20 16]\n",
      " [ 7 24]]\n"
     ]
    }
   ],
   "source": [
    "import pandas as pd\n",
    "import numpy as np\n",
    "from sklearn.model_selection import train_test_split, cross_val_score, StratifiedKFold\n",
    "from sklearn.ensemble import RandomForestClassifier\n",
    "from sklearn.preprocessing import StandardScaler\n",
    "from sklearn.pipeline import Pipeline\n",
    "from sklearn.metrics import accuracy_score, classification_report, confusion_matrix\n",
    "import os\n",
    "\n",
    "# Load the data\n",
    "student_file = os.path.join(\"..\", \"data\", \"processed\", \"Merged_Final_File_Updated.xlsx\")\n",
    "df = pd.read_excel(student_file)\n",
    "\n",
    "# Encode the target variable\n",
    "df['dropped out'] = df['dropped out'].map({'no': 0, 'yes': 1})\n",
    "\n",
    "# Select features and target\n",
    "features = ['anl1 final grade', 'anl2 final grade', 'anl3 final grade', 'anl4 final grade']\n",
    "target = 'dropped out'\n",
    "\n",
    "X = df[features]\n",
    "y = df[target]\n",
    "\n",
    "# Define a pipeline with scaling and Random Forest Classifier\n",
    "pipeline = Pipeline([\n",
    "    ('scaler', StandardScaler()),  # Standardize features\n",
    "    ('rf', RandomForestClassifier(n_estimators=60, random_state=42))  # Random Forest Classifier\n",
    "])\n",
    "\n",
    "# Define Stratified K-Fold cross-validator\n",
    "cv = StratifiedKFold(n_splits=5, shuffle=True, random_state=42)\n",
    "\n",
    "# Evaluate using cross-validation\n",
    "cv_scores = cross_val_score(pipeline, X, y, cv=cv, scoring='accuracy')\n",
    "\n",
    "# Print cross-validation results\n",
    "print(f\"Cross-Validation Accuracy Scores: {cv_scores}\")\n",
    "print(f\"Mean Accuracy: {cv_scores.mean():.2f}\")\n",
    "print(f\"Standard Deviation: {cv_scores.std():.2f}\")\n",
    "\n",
    "# Split data into training and testing sets for final evaluation\n",
    "X_train, X_test, y_train, y_test = train_test_split(X, y, test_size=0.2, random_state=42, stratify=y)\n",
    "\n",
    "# Train the model on the training set\n",
    "pipeline.fit(X_train, y_train)\n",
    "\n",
    "# Make predictions on the testing set\n",
    "y_pred = pipeline.predict(X_test)\n",
    "\n",
    "# Evaluate the model\n",
    "accuracy = accuracy_score(y_test, y_pred)\n",
    "print(f\"\\nFinal Test Set Accuracy: {accuracy:.2f}\")\n",
    "print(\"\\nClassification Report:\")\n",
    "print(classification_report(y_test, y_pred))\n",
    "\n",
    "# Confusion matrix\n",
    "conf_matrix = confusion_matrix(y_test, y_pred)\n",
    "print(\"\\nConfusion Matrix:\")\n",
    "print(conf_matrix)\n"
   ]
  }
 ],
 "metadata": {
  "kernelspec": {
   "display_name": "Python 3",
   "language": "python",
   "name": "python3"
  },
  "language_info": {
   "codemirror_mode": {
    "name": "ipython",
    "version": 3
   },
   "file_extension": ".py",
   "mimetype": "text/x-python",
   "name": "python",
   "nbconvert_exporter": "python",
   "pygments_lexer": "ipython3",
   "version": "3.9.7"
  }
 },
 "nbformat": 4,
 "nbformat_minor": 2
}
